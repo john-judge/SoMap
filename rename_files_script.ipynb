{
 "cells": [
  {
   "cell_type": "markdown",
   "id": "6dc85661-4112-48f0-b574-037e34c06613",
   "metadata": {},
   "source": [
    "# Rename downloaded files"
   ]
  },
  {
   "cell_type": "code",
   "execution_count": 4,
   "id": "6d4882fb-f088-44b5-804f-91057cf716cc",
   "metadata": {},
   "outputs": [
    {
     "name": "stdout",
     "output_type": "stream",
     "text": [
      "old: 1-1r.tif\n",
      "new: 000.tif\n",
      "old: 1-2r.tif\n",
      "new: 001.tif\n",
      "old: 1-3r.tif\n",
      "new: 002.tif\n",
      "old: 2-1r.tif\n",
      "new: 003.tif\n",
      "old: 2-3r.tif\n",
      "new: 004.tif\n",
      "old: 3-1r.tif\n",
      "new: 005.tif\n",
      "old: 3-2r.tif\n",
      "new: 006.tif\n",
      "old: 3-3r.tif\n",
      "new: 007.tif\n",
      "old: 3-4r.tif\n",
      "new: 008.tif\n",
      "old: 4-1r.tif\n",
      "new: 009.tif\n",
      "old: 5-1r.tif\n",
      "new: 010.tif\n",
      "old: 5-2r.tif\n",
      "new: 011.tif\n",
      "old: 6-1r.tif\n",
      "new: 012.tif\n",
      "old: 6-2r.tif\n",
      "new: 013.tif\n",
      "old: 6-3r.tif\n",
      "new: 014.tif\n",
      "old: 6-4r.tif\n",
      "new: 015.tif\n",
      "old: 7-1r.tif\n",
      "new: 016.tif\n",
      "old: 7-2r.tif\n",
      "new: 017.tif\n",
      "old: 7-3r.tif\n",
      "new: 018.tif\n",
      "old: 7-4r.tif\n",
      "new: 019.tif\n",
      "old: 8-1r.tif\n",
      "new: 020.tif\n",
      "old: 8-2r.tif\n",
      "new: 021.tif\n",
      "old: 8-3r.tif\n",
      "new: 022.tif\n",
      "old: 8-4r.tif\n",
      "new: 023.tif\n",
      "old: 8-5r.tif\n",
      "new: 024.tif\n"
     ]
    }
   ],
   "source": [
    "# rename downloaded files\n",
    "import pathlib\n",
    "import os\n",
    "\n",
    "from src.pytorch_faster_rcnn_tutorial.utils import get_filenames_of_path\n",
    "\n",
    "root = pathlib.Path(\"src/pytorch_faster_rcnn_tutorial/data/heads\")\n",
    "root = pathlib.Path('C:/Users/jjudge3/Desktop/scratch/PyTorch-Object-Detection-Faster-RCNN-Tutorial/src/pytorch_faster_rcnn_tutorial/data/heads/input')\n",
    "\n",
    "\n",
    "idx = 0\n",
    "for file in os.listdir(root):\n",
    "    path = pathlib.Path(root, file)\n",
    "    old_name = path.stem\n",
    "    old_extension = path.suffix\n",
    "    dir = path.parent\n",
    "    new_name = str(idx).zfill(3) + old_extension\n",
    "    print(f\"old: {old_name + old_extension}\")\n",
    "    print(f\"new: {new_name}\")\n",
    "    path.rename(pathlib.Path(dir, new_name))\n",
    "    idx += 1"
   ]
  }
 ],
 "metadata": {
  "kernelspec": {
   "display_name": "Python 3",
   "language": "python",
   "name": "python3"
  },
  "language_info": {
   "codemirror_mode": {
    "name": "ipython",
    "version": 3
   },
   "file_extension": ".py",
   "mimetype": "text/x-python",
   "name": "python",
   "nbconvert_exporter": "python",
   "pygments_lexer": "ipython3",
   "version": "3.10.13"
  }
 },
 "nbformat": 4,
 "nbformat_minor": 5
}

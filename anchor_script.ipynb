{
 "cells": [
  {
   "cell_type": "markdown",
   "id": "c52b8d4e-fc27-4b77-bfbe-7148c997c506",
   "metadata": {},
   "source": [
    "# AnchorViewer"
   ]
  },
  {
   "cell_type": "code",
   "execution_count": 94,
   "id": "9075878f-4244-4e2e-ae0d-273db6294e56",
   "metadata": {
    "tags": []
   },
   "outputs": [],
   "source": [
    "# imports\n",
    "import logging\n",
    "import pathlib\n",
    "import sys\n",
    "import warnings\n",
    "from typing import List, Dict\n",
    "\n",
    "import numpy as np\n",
    "from torchvision.models.detection.transform import GeneralizedRCNNTransform\n",
    "\n",
    "from src.pytorch_faster_rcnn_tutorial.datasets import ObjectDetectionDataSet\n",
    "from src.pytorch_faster_rcnn_tutorial.transformations import (\n",
    "    Clip,\n",
    "    ComposeDouble,\n",
    "    FunctionWrapperDouble,\n",
    "    normalize_01,\n",
    ")\n",
    "from src.pytorch_faster_rcnn_tutorial.utils import get_filenames_of_path\n",
    "from src.pytorch_faster_rcnn_tutorial.viewers.anchor_viewer import AnchorViewer"
   ]
  },
  {
   "cell_type": "code",
   "execution_count": 95,
   "id": "c31cc212-6a87-4ce3-8c2a-aca8c8b14f9e",
   "metadata": {
    "tags": []
   },
   "outputs": [],
   "source": [
    "warnings.filterwarnings(\"ignore\")\n",
    "\n",
    "logger: logging.Logger = logging.getLogger(__name__)\n",
    "\n",
    "# logging\n",
    "logging.basicConfig(\n",
    "    level=logging.INFO,\n",
    "    format=\"%(asctime)s - %(levelname)s - %(filename)s:%(lineno)d:%(funcName)s: %(message)s\",\n",
    "    datefmt=\"%Y-%m-%d %H:%M:%S\",\n",
    "    handlers=[logging.StreamHandler(sys.stdout)],\n",
    ")"
   ]
  },
  {
   "cell_type": "code",
   "execution_count": 96,
   "id": "b804c1b0-381a-4a10-bba9-17832edf1790",
   "metadata": {
    "tags": []
   },
   "outputs": [],
   "source": [
    "# root directory\n",
    "data_path: pathlib.Path = pathlib.Path('C:/Users/jjudge3/Desktop/scratch/PyTorch-Object-Detection-Faster-RCNN-Tutorial/src/pytorch_faster_rcnn_tutorial/data/heads')"
   ]
  },
  {
   "cell_type": "code",
   "execution_count": 97,
   "id": "c44f9d28-92ff-4a85-a52f-a2ba41654139",
   "metadata": {
    "tags": []
   },
   "outputs": [
    {
     "name": "stdout",
     "output_type": "stream",
     "text": [
      "2024-02-27 17:54:20 - INFO - utils.py:27:get_filenames_of_path: Found 20 files in C:\\Users\\jjudge3\\Desktop\\scratch\\PyTorch-Object-Detection-Faster-RCNN-Tutorial\\src\\pytorch_faster_rcnn_tutorial\\data\\heads\\input\n",
      "2024-02-27 17:54:20 - INFO - utils.py:27:get_filenames_of_path: Found 20 files in C:\\Users\\jjudge3\\Desktop\\scratch\\PyTorch-Object-Detection-Faster-RCNN-Tutorial\\src\\pytorch_faster_rcnn_tutorial\\data\\heads\\target\n",
      "[WindowsPath('C:/Users/jjudge3/Desktop/scratch/PyTorch-Object-Detection-Faster-RCNN-Tutorial/src/pytorch_faster_rcnn_tutorial/data/heads/target/001.json'), WindowsPath('C:/Users/jjudge3/Desktop/scratch/PyTorch-Object-Detection-Faster-RCNN-Tutorial/src/pytorch_faster_rcnn_tutorial/data/heads/target/002.json'), WindowsPath('C:/Users/jjudge3/Desktop/scratch/PyTorch-Object-Detection-Faster-RCNN-Tutorial/src/pytorch_faster_rcnn_tutorial/data/heads/target/003.json'), WindowsPath('C:/Users/jjudge3/Desktop/scratch/PyTorch-Object-Detection-Faster-RCNN-Tutorial/src/pytorch_faster_rcnn_tutorial/data/heads/target/004.json'), WindowsPath('C:/Users/jjudge3/Desktop/scratch/PyTorch-Object-Detection-Faster-RCNN-Tutorial/src/pytorch_faster_rcnn_tutorial/data/heads/target/005.json'), WindowsPath('C:/Users/jjudge3/Desktop/scratch/PyTorch-Object-Detection-Faster-RCNN-Tutorial/src/pytorch_faster_rcnn_tutorial/data/heads/target/006.json'), WindowsPath('C:/Users/jjudge3/Desktop/scratch/PyTorch-Object-Detection-Faster-RCNN-Tutorial/src/pytorch_faster_rcnn_tutorial/data/heads/target/007.json'), WindowsPath('C:/Users/jjudge3/Desktop/scratch/PyTorch-Object-Detection-Faster-RCNN-Tutorial/src/pytorch_faster_rcnn_tutorial/data/heads/target/008.json'), WindowsPath('C:/Users/jjudge3/Desktop/scratch/PyTorch-Object-Detection-Faster-RCNN-Tutorial/src/pytorch_faster_rcnn_tutorial/data/heads/target/009.json'), WindowsPath('C:/Users/jjudge3/Desktop/scratch/PyTorch-Object-Detection-Faster-RCNN-Tutorial/src/pytorch_faster_rcnn_tutorial/data/heads/target/010.json'), WindowsPath('C:/Users/jjudge3/Desktop/scratch/PyTorch-Object-Detection-Faster-RCNN-Tutorial/src/pytorch_faster_rcnn_tutorial/data/heads/target/011.json'), WindowsPath('C:/Users/jjudge3/Desktop/scratch/PyTorch-Object-Detection-Faster-RCNN-Tutorial/src/pytorch_faster_rcnn_tutorial/data/heads/target/012.json'), WindowsPath('C:/Users/jjudge3/Desktop/scratch/PyTorch-Object-Detection-Faster-RCNN-Tutorial/src/pytorch_faster_rcnn_tutorial/data/heads/target/013.json'), WindowsPath('C:/Users/jjudge3/Desktop/scratch/PyTorch-Object-Detection-Faster-RCNN-Tutorial/src/pytorch_faster_rcnn_tutorial/data/heads/target/014.json'), WindowsPath('C:/Users/jjudge3/Desktop/scratch/PyTorch-Object-Detection-Faster-RCNN-Tutorial/src/pytorch_faster_rcnn_tutorial/data/heads/target/015.json'), WindowsPath('C:/Users/jjudge3/Desktop/scratch/PyTorch-Object-Detection-Faster-RCNN-Tutorial/src/pytorch_faster_rcnn_tutorial/data/heads/target/016.json'), WindowsPath('C:/Users/jjudge3/Desktop/scratch/PyTorch-Object-Detection-Faster-RCNN-Tutorial/src/pytorch_faster_rcnn_tutorial/data/heads/target/017.json'), WindowsPath('C:/Users/jjudge3/Desktop/scratch/PyTorch-Object-Detection-Faster-RCNN-Tutorial/src/pytorch_faster_rcnn_tutorial/data/heads/target/018.json'), WindowsPath('C:/Users/jjudge3/Desktop/scratch/PyTorch-Object-Detection-Faster-RCNN-Tutorial/src/pytorch_faster_rcnn_tutorial/data/heads/target/019.json'), WindowsPath('C:/Users/jjudge3/Desktop/scratch/PyTorch-Object-Detection-Faster-RCNN-Tutorial/src/pytorch_faster_rcnn_tutorial/data/heads/target/020.json')]\n"
     ]
    }
   ],
   "source": [
    "# input and target files\n",
    "inputs: List[pathlib.Path] = get_filenames_of_path(data_path / \"input\")\n",
    "targets: List[pathlib.Path] = get_filenames_of_path(data_path / \"target\")\n",
    "\n",
    "inputs.sort()\n",
    "targets.sort()\n",
    "print(targets)"
   ]
  },
  {
   "cell_type": "code",
   "execution_count": 98,
   "id": "f54dfdd4-bc4e-42dd-adb9-8d7451b399f1",
   "metadata": {
    "tags": []
   },
   "outputs": [],
   "source": [
    "# mapping\n",
    "mapping: Dict[str, int] = {\n",
    "    \"head\": 1,\n",
    "}"
   ]
  },
  {
   "cell_type": "code",
   "execution_count": 99,
   "id": "0e40e219-62b6-42b9-81a2-c7d867a47dc1",
   "metadata": {
    "tags": []
   },
   "outputs": [],
   "source": [
    "# transforms\n",
    "transforms: ComposeDouble = ComposeDouble(\n",
    "    [\n",
    "        Clip(),\n",
    "        # AlbumentationWrapper(albumentation=A.HorizontalFlip(p=0.5)),\n",
    "        # AlbumentationWrapper(albumentation=A.RandomScale(p=0.5, scale_limit=0.5)),\n",
    "        # AlbumentationWrapper(albumentation=A.VerticalFlip(p=0.5)),\n",
    "        FunctionWrapperDouble(np.moveaxis, source=-1, destination=0),\n",
    "        FunctionWrapperDouble(normalize_01),\n",
    "    ]\n",
    ")"
   ]
  },
  {
   "cell_type": "code",
   "execution_count": 100,
   "id": "178b3597-b7c1-4e0b-a293-5a17a8faeb9c",
   "metadata": {
    "tags": []
   },
   "outputs": [],
   "source": [
    "# dataset building\n",
    "dataset: ObjectDetectionDataSet = ObjectDetectionDataSet(\n",
    "    inputs=inputs,\n",
    "    targets=targets,\n",
    "    transform=transforms,\n",
    "    use_cache=False,\n",
    "    convert_to_format=None,\n",
    "    mapping=mapping,\n",
    ")"
   ]
  },
  {
   "cell_type": "code",
   "execution_count": 101,
   "id": "580f5009-cccf-4cca-9e19-368d1be494cd",
   "metadata": {
    "tags": []
   },
   "outputs": [],
   "source": [
    "# transforms\n",
    "transform: GeneralizedRCNNTransform = GeneralizedRCNNTransform(\n",
    "    min_size=1024,\n",
    "    max_size=1024,\n",
    "    image_mean=[0.485, 0.456, 0.406],\n",
    "    image_std=[0.229, 0.224, 0.225],\n",
    ")"
   ]
  },
  {
   "cell_type": "code",
   "execution_count": 104,
   "id": "ba388e24-8102-4b1d-abaa-8a9a5781d1a3",
   "metadata": {
    "tags": []
   },
   "outputs": [
    {
     "data": {
      "text/plain": [
       "torch.Size([3, 2048, 2448])"
      ]
     },
     "execution_count": 104,
     "metadata": {},
     "output_type": "execute_result"
    }
   ],
   "source": [
    "feature_map_size = (512, 32, 32)\n",
    "\n",
    "anchor_viewer_rcnn: AnchorViewer = AnchorViewer(\n",
    "    dataset=dataset, rcnn_transform=transform, feature_map_size=feature_map_size\n",
    ")\n",
    "dataset[1]['x'].shape"
   ]
  },
  {
   "cell_type": "code",
   "execution_count": 103,
   "id": "1bdede49",
   "metadata": {},
   "outputs": [],
   "source": [
    "## press 'n' or 'b' to see images"
   ]
  }
 ],
 "metadata": {
  "kernelspec": {
   "display_name": "Python 3 (ipykernel)",
   "language": "python",
   "name": "python3"
  },
  "language_info": {
   "codemirror_mode": {
    "name": "ipython",
    "version": 3
   },
   "file_extension": ".py",
   "mimetype": "text/x-python",
   "name": "python",
   "nbconvert_exporter": "python",
   "pygments_lexer": "ipython3",
   "version": "3.10.13"
  }
 },
 "nbformat": 4,
 "nbformat_minor": 5
}

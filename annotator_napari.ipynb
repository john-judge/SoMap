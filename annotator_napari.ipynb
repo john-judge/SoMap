{
 "cells": [
  {
   "cell_type": "code",
   "execution_count": 1,
   "metadata": {},
   "outputs": [],
   "source": [
    "import pathlib\n",
    "from typing import List\n",
    "import numpy as np\n",
    "import os\n",
    "\n",
    "from src.pytorch_faster_rcnn_tutorial.annotator import Annotator\n",
    "from src.pytorch_faster_rcnn_tutorial.datasets import ObjectDetectionDatasetSingle\n",
    "from src.pytorch_faster_rcnn_tutorial.transformations import (\n",
    "    ComposeSingle,\n",
    "    FunctionWrapperSingle,\n",
    "    normalize_01,\n",
    ")\n",
    "from src.pytorch_faster_rcnn_tutorial.utils import get_filenames_of_path"
   ]
  },
  {
   "cell_type": "code",
   "execution_count": 2,
   "metadata": {},
   "outputs": [],
   "source": [
    "# rename files\n",
    "root = pathlib.Path('C:/Users/jjudge3/Desktop/scratch/PyTorch-Object-Detection-Faster-RCNN-Tutorial/src/pytorch_faster_rcnn_tutorial/data/heads/input')\n",
    "rename = False\n",
    "\n",
    "if rename:\n",
    "    idx = 1\n",
    "    for file in os.listdir(root):\n",
    "        path = pathlib.Path(root, file)\n",
    "        old_name = path.stem\n",
    "        old_extension = path.suffix\n",
    "        dir = path.parent\n",
    "        new_name = str(idx).zfill(3) + old_extension\n",
    "        print(f\"old: {old_name + old_extension}\")\n",
    "        print(f\"new: {new_name}\")\n",
    "        path.rename(pathlib.Path(dir, new_name))\n",
    "        idx += 1"
   ]
  },
  {
   "cell_type": "code",
   "execution_count": 10,
   "metadata": {},
   "outputs": [
    {
     "name": "stdout",
     "output_type": "stream",
     "text": [
      "[WindowsPath('C:/Users/jjudge3/Desktop/scratch/PyTorch-Object-Detection-Faster-RCNN-Tutorial/src/pytorch_faster_rcnn_tutorial/data/heads/input/001.tif'), WindowsPath('C:/Users/jjudge3/Desktop/scratch/PyTorch-Object-Detection-Faster-RCNN-Tutorial/src/pytorch_faster_rcnn_tutorial/data/heads/input/002.tif'), WindowsPath('C:/Users/jjudge3/Desktop/scratch/PyTorch-Object-Detection-Faster-RCNN-Tutorial/src/pytorch_faster_rcnn_tutorial/data/heads/input/003.tif'), WindowsPath('C:/Users/jjudge3/Desktop/scratch/PyTorch-Object-Detection-Faster-RCNN-Tutorial/src/pytorch_faster_rcnn_tutorial/data/heads/input/004.tif'), WindowsPath('C:/Users/jjudge3/Desktop/scratch/PyTorch-Object-Detection-Faster-RCNN-Tutorial/src/pytorch_faster_rcnn_tutorial/data/heads/input/005.tif'), WindowsPath('C:/Users/jjudge3/Desktop/scratch/PyTorch-Object-Detection-Faster-RCNN-Tutorial/src/pytorch_faster_rcnn_tutorial/data/heads/input/006.tif'), WindowsPath('C:/Users/jjudge3/Desktop/scratch/PyTorch-Object-Detection-Faster-RCNN-Tutorial/src/pytorch_faster_rcnn_tutorial/data/heads/input/007.tif'), WindowsPath('C:/Users/jjudge3/Desktop/scratch/PyTorch-Object-Detection-Faster-RCNN-Tutorial/src/pytorch_faster_rcnn_tutorial/data/heads/input/008.tif'), WindowsPath('C:/Users/jjudge3/Desktop/scratch/PyTorch-Object-Detection-Faster-RCNN-Tutorial/src/pytorch_faster_rcnn_tutorial/data/heads/input/009.tif'), WindowsPath('C:/Users/jjudge3/Desktop/scratch/PyTorch-Object-Detection-Faster-RCNN-Tutorial/src/pytorch_faster_rcnn_tutorial/data/heads/input/010.tif'), WindowsPath('C:/Users/jjudge3/Desktop/scratch/PyTorch-Object-Detection-Faster-RCNN-Tutorial/src/pytorch_faster_rcnn_tutorial/data/heads/input/011.tif'), WindowsPath('C:/Users/jjudge3/Desktop/scratch/PyTorch-Object-Detection-Faster-RCNN-Tutorial/src/pytorch_faster_rcnn_tutorial/data/heads/input/012.tif'), WindowsPath('C:/Users/jjudge3/Desktop/scratch/PyTorch-Object-Detection-Faster-RCNN-Tutorial/src/pytorch_faster_rcnn_tutorial/data/heads/input/013.tif'), WindowsPath('C:/Users/jjudge3/Desktop/scratch/PyTorch-Object-Detection-Faster-RCNN-Tutorial/src/pytorch_faster_rcnn_tutorial/data/heads/input/014.tif'), WindowsPath('C:/Users/jjudge3/Desktop/scratch/PyTorch-Object-Detection-Faster-RCNN-Tutorial/src/pytorch_faster_rcnn_tutorial/data/heads/input/015.tif'), WindowsPath('C:/Users/jjudge3/Desktop/scratch/PyTorch-Object-Detection-Faster-RCNN-Tutorial/src/pytorch_faster_rcnn_tutorial/data/heads/input/016.tif'), WindowsPath('C:/Users/jjudge3/Desktop/scratch/PyTorch-Object-Detection-Faster-RCNN-Tutorial/src/pytorch_faster_rcnn_tutorial/data/heads/input/017.tif'), WindowsPath('C:/Users/jjudge3/Desktop/scratch/PyTorch-Object-Detection-Faster-RCNN-Tutorial/src/pytorch_faster_rcnn_tutorial/data/heads/input/018.tif'), WindowsPath('C:/Users/jjudge3/Desktop/scratch/PyTorch-Object-Detection-Faster-RCNN-Tutorial/src/pytorch_faster_rcnn_tutorial/data/heads/input/019.tif'), WindowsPath('C:/Users/jjudge3/Desktop/scratch/PyTorch-Object-Detection-Faster-RCNN-Tutorial/src/pytorch_faster_rcnn_tutorial/data/heads/input/020.tif')]\n"
     ]
    },
    {
     "name": "stderr",
     "output_type": "stream",
     "text": [
      "c:\\Users\\jjudge3\\Anaconda3\\envs\\faster-rcnn-tutorial\\lib\\site-packages\\napari\\layers\\base\\base.py:1632: RuntimeWarning: invalid value encountered in cast\n",
      "  corners[:, displayed_axes] = data_bbox_clipped\n",
      "c:\\Users\\jjudge3\\Anaconda3\\envs\\faster-rcnn-tutorial\\lib\\site-packages\\napari\\layers\\base\\base.py:1632: RuntimeWarning: invalid value encountered in cast\n",
      "  corners[:, displayed_axes] = data_bbox_clipped\n",
      "c:\\Users\\jjudge3\\Anaconda3\\envs\\faster-rcnn-tutorial\\lib\\site-packages\\napari\\layers\\base\\base.py:1632: RuntimeWarning: invalid value encountered in cast\n",
      "  corners[:, displayed_axes] = data_bbox_clipped\n",
      "c:\\Users\\jjudge3\\Anaconda3\\envs\\faster-rcnn-tutorial\\lib\\site-packages\\napari\\layers\\base\\base.py:1632: RuntimeWarning: invalid value encountered in cast\n",
      "  corners[:, displayed_axes] = data_bbox_clipped\n",
      "c:\\Users\\jjudge3\\Anaconda3\\envs\\faster-rcnn-tutorial\\lib\\site-packages\\napari\\layers\\base\\base.py:1632: RuntimeWarning: invalid value encountered in cast\n",
      "  corners[:, displayed_axes] = data_bbox_clipped\n",
      "c:\\Users\\jjudge3\\Anaconda3\\envs\\faster-rcnn-tutorial\\lib\\site-packages\\napari\\layers\\base\\base.py:1632: RuntimeWarning: invalid value encountered in cast\n",
      "  corners[:, displayed_axes] = data_bbox_clipped\n",
      "c:\\Users\\jjudge3\\Anaconda3\\envs\\faster-rcnn-tutorial\\lib\\site-packages\\napari\\layers\\base\\base.py:1632: RuntimeWarning: invalid value encountered in cast\n",
      "  corners[:, displayed_axes] = data_bbox_clipped\n",
      "c:\\Users\\jjudge3\\Anaconda3\\envs\\faster-rcnn-tutorial\\lib\\site-packages\\napari\\layers\\base\\base.py:1632: RuntimeWarning: invalid value encountered in cast\n",
      "  corners[:, displayed_axes] = data_bbox_clipped\n",
      "c:\\Users\\jjudge3\\Anaconda3\\envs\\faster-rcnn-tutorial\\lib\\site-packages\\napari\\layers\\base\\base.py:1632: RuntimeWarning: invalid value encountered in cast\n",
      "  corners[:, displayed_axes] = data_bbox_clipped\n",
      "c:\\Users\\jjudge3\\Anaconda3\\envs\\faster-rcnn-tutorial\\lib\\site-packages\\napari\\layers\\base\\base.py:1632: RuntimeWarning: invalid value encountered in cast\n",
      "  corners[:, displayed_axes] = data_bbox_clipped\n"
     ]
    }
   ],
   "source": [
    "# open napari for annotating\n",
    "\n",
    "# input files\n",
    "inputs = [pathlib.Path(root, file) for file in os.listdir(root)]\n",
    "print(inputs)\n",
    "\n",
    "# transforms\n",
    "transforms: ComposeSingle = ComposeSingle(\n",
    "    [\n",
    "        FunctionWrapperSingle(np.moveaxis, source=-1, destination=0),\n",
    "        FunctionWrapperSingle(normalize_01),\n",
    "    ]\n",
    ")\n",
    "\n",
    "# dataset building\n",
    "dataset: ObjectDetectionDatasetSingle = ObjectDetectionDatasetSingle(\n",
    "    inputs=inputs,\n",
    "    transform=transforms,\n",
    "    use_cache=False,\n",
    ")\n",
    "\n",
    "annotator: Annotator = Annotator(dataset=dataset)\n",
    "annotator.add_class(label='head', color='red')"
   ]
  },
  {
   "cell_type": "code",
   "execution_count": 9,
   "metadata": {},
   "outputs": [],
   "source": [
    "# press N for each image and add bounding boxes. Then run the following to save the annotations\n",
    "annotator.export(pathlib.Path('C:/Users/jjudge3/Desktop/scratch/PyTorch-Object-Detection-Faster-RCNN-Tutorial/src/pytorch_faster_rcnn_tutorial/data/heads/target'))"
   ]
  }
 ],
 "metadata": {
  "kernelspec": {
   "display_name": "faster-rcnn-tutorial",
   "language": "python",
   "name": "python3"
  },
  "language_info": {
   "codemirror_mode": {
    "name": "ipython",
    "version": 3
   },
   "file_extension": ".py",
   "mimetype": "text/x-python",
   "name": "python",
   "nbconvert_exporter": "python",
   "pygments_lexer": "ipython3",
   "version": "3.10.13"
  }
 },
 "nbformat": 4,
 "nbformat_minor": 2
}
